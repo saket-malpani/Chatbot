{
 "cells": [
  {
   "cell_type": "code",
   "execution_count": null,
   "metadata": {
    "collapsed": true
   },
   "outputs": [
    {
     "name": "stdout",
     "output_type": "stream",
     "text": [
      "what is your name\n",
      "['You go by Saket']\n",
      "how is the weather today\n",
      "['the weather is cloudy']\n",
      "what is my value system\n",
      "['I strongly believe in empathy, collaboration and responsiveness to the needs of stakeholders. I am quite resilient and have risen from very low points in life thanks to the support provided by my family.']\n"
     ]
    }
   ],
   "source": [
    "\n",
    "import random\n",
    "import spacy\n",
    "\n",
    "# Define few variables\n",
    "name = \"Saket\"\n",
    "weather = \"cloudy\"\n",
    "\n",
    "# Define objectives of the chatbot\n",
    "# 1. Provide links\n",
    "# 2. Provide high level information\n",
    "# 3. Provide details on key information provided\n",
    "\n",
    "#Links\n",
    "homepage_link = \"https://github.com/saket-malpani\"\n",
    "homepage_assets = \"You can find different types of assets like presentation templates, Jupyter notebooks and research materials here\"\n",
    "\n",
    "#Key information\n",
    "My_vision = \"My vision to deliver great results and value for the organization I work for. I believe in continuous learning and growth.\"\n",
    "Vision_Path = \"To achieve my vision I constantly take care of 1. XXX 2. YYY 3. ZZZ\"\n",
    "\n",
    "#Key Details\n",
    "Value_system = \"I strongly believe in empathy, collaboration and responsiveness to the needs of stakeholders. I am quite resilient and have risen from very low points in life thanks to the support provided by my family.\"\n",
    "econnect_link = \"https://e-connect.global.tesco.org/TicketCenter.aspx\"\n",
    "\n",
    "# Define a dictionary with the predefined responses\n",
    "responses = {\n",
    "  \"Can you tell my name?\": [\n",
    "      \"Your name is {0}\".format(name),\n",
    "      \"they call you {0}\".format(name),\n",
    "      \"You go by {0}\".format(name)\n",
    "   ],\n",
    "  \"what's today's weather?\": [\n",
    "      \"the weather is {0}\".format(weather),\n",
    "      \"it's {0} today\".format(weather)\n",
    "    ],\n",
    "    \"what is value system?\": [Value_system],\n",
    "    \"what is your vision?\": [My_vision],\n",
    "  \"default\": [\"default message\"] # Return the matching response if there is one, default otherwise\n",
    "}\n",
    "\n",
    "#Load Spacy model. This will be used to identify key entities from the data\n",
    "nlp = spacy.load('en_core_web_sm')\n",
    "\n",
    "import re\n",
    "def respond():\n",
    "    message = input()\n",
    "    # Check if the message is in the responses\n",
    "    doc = nlp(message)\n",
    "    for token in doc:\n",
    "        if token.pos_ in ('PROPN','NOUN'): #Extract Nouns and Pronouns from the query\n",
    "            search_criterion = token.text\n",
    "    for key in responses.keys(): #Map nouns/pronouns in the query with the dictionary key \n",
    "        if re.search(search_criterion,key) is not None:\n",
    "            query = key\n",
    "    if query in responses:\n",
    "        # Return the matching message\n",
    "        print(random.choices(responses[query])) #randomize the message so that it looks more human\n",
    "        respond()\n",
    "    elif message == \"Thanks\": \n",
    "        return print(\"Please come back later\") #Exit the loop if user says Thanks\n",
    "    elif query not in responses:\n",
    "        # print the \"default\" message\n",
    "        print(responses[\"please try other query\"]) #Return default message if query not in dictionary\n",
    "        respond()\n",
    "    else:\n",
    "        return respond()\n",
    "respond()"
   ]
  }
 ],
 "metadata": {
  "kernelspec": {
   "display_name": "Python 3",
   "language": "python",
   "name": "python3"
  },
  "language_info": {
   "codemirror_mode": {
    "name": "ipython",
    "version": 3
   },
   "file_extension": ".py",
   "mimetype": "text/x-python",
   "name": "python",
   "nbconvert_exporter": "python",
   "pygments_lexer": "ipython3",
   "version": "3.7.0"
  }
 },
 "nbformat": 4,
 "nbformat_minor": 4
}
